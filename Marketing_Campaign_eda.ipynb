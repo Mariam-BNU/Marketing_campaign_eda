{
  "nbformat": 4,
  "nbformat_minor": 0,
  "metadata": {
    "colab": {
      "provenance": []
    },
    "kernelspec": {
      "name": "python3",
      "display_name": "Python 3"
    },
    "language_info": {
      "name": "python"
    }
  },
  "cells": [
    {
      "cell_type": "markdown",
      "source": [
        "# 📊 Exploratory Data Analysis on Marketing Campaign Dataset"
      ],
      "metadata": {
        "id": "Sf75XUIZWyUt"
      }
    },
    {
      "cell_type": "markdown",
      "source": [
        "This dataset contains information about customers and their response to a marketing campaign. The goal is to explore customer behavior and discover useful insights.\n"
      ],
      "metadata": {
        "id": "pHPbFMwoXAEK"
      }
    },
    {
      "cell_type": "code",
      "execution_count": null,
      "metadata": {
        "id": "aDBAaOcYB6Kp"
      },
      "outputs": [],
      "source": [
        "\n",
        "\n",
        "from google.colab import files\n",
        "uploaded = files.upload()\n"
      ]
    },
    {
      "cell_type": "code",
      "source": [
        "import pandas as pd\n",
        "import io\n",
        "df = pd.read_excel('marketing_campaign.xlsx')"
      ],
      "metadata": {
        "id": "HtKwyElUWVX7"
      },
      "execution_count": null,
      "outputs": []
    },
    {
      "cell_type": "code",
      "source": [
        "df.head()"
      ],
      "metadata": {
        "id": "EScUkPN0W5YU"
      },
      "execution_count": null,
      "outputs": []
    },
    {
      "cell_type": "code",
      "source": [
        "print(df.shape)"
      ],
      "metadata": {
        "id": "OLO__DSSorTO"
      },
      "execution_count": null,
      "outputs": []
    },
    {
      "cell_type": "code",
      "source": [
        "print(df.columns)"
      ],
      "metadata": {
        "id": "jaIB11Hoo_RM"
      },
      "execution_count": null,
      "outputs": []
    },
    {
      "cell_type": "code",
      "source": [
        "print(df.info)"
      ],
      "metadata": {
        "id": "6CZVozC0pHd8"
      },
      "execution_count": null,
      "outputs": []
    },
    {
      "cell_type": "code",
      "source": [
        "print(df.describe())"
      ],
      "metadata": {
        "id": "N_hXBcUqp7E2"
      },
      "execution_count": null,
      "outputs": []
    },
    {
      "cell_type": "markdown",
      "source": [
        "## 🎯 Filtering High Income Customers\n",
        "We want to see the behavior of customers with income > 60000.\n"
      ],
      "metadata": {
        "id": "1llorElhYFge"
      }
    },
    {
      "cell_type": "code",
      "source": [
        "high_Income=df[df['Income']>60000]\n",
        "print(high_Income)"
      ],
      "metadata": {
        "id": "JzH3js8EqsvY"
      },
      "execution_count": null,
      "outputs": []
    },
    {
      "cell_type": "code",
      "source": [
        "df_sorted=df.sort_values(by='Income',ascending=False)\n",
        "print(df_sorted)\n",
        "\n",
        "df_sorted1=df.sort_values(by='Income',ascending=True)\n",
        "print(df_sorted1)\n",
        "\n",
        "df_sorted2=df.sort_values(by=['Year_Birth'],ascending=[False])\n",
        "print(df_sorted2)\n"
      ],
      "metadata": {
        "id": "P8FpNKdmuF9P"
      },
      "execution_count": null,
      "outputs": []
    },
    {
      "cell_type": "code",
      "source": [
        "avg_income=df['Income'].mean()\n",
        "print(avg_income)"
      ],
      "metadata": {
        "id": "01kktrgBvKi5"
      },
      "execution_count": null,
      "outputs": []
    },
    {
      "cell_type": "code",
      "source": [
        "merged=pd.merge(df,df_sorted,on='Income')\n",
        "print(merged)"
      ],
      "metadata": {
        "id": "qF1OXCl24BUj"
      },
      "execution_count": null,
      "outputs": []
    },
    {
      "cell_type": "code",
      "source": [
        "pivot=df.pivot_table(index='Year_Birth',values='Income',aggfunc='mean')\n",
        "print(pivot)"
      ],
      "metadata": {
        "id": "PoRQ2swl4itv"
      },
      "execution_count": null,
      "outputs": []
    },
    {
      "cell_type": "code",
      "source": [
        "avg_g=df.groupby('Education')['Income'].mean()\n",
        "print(avg_g)"
      ],
      "metadata": {
        "id": "p2kWpeVz6A-h"
      },
      "execution_count": null,
      "outputs": []
    },
    {
      "cell_type": "code",
      "source": [
        "df.pivot_table(values='Income', index='Education',columns='Marital_Status', aggfunc='mean')"
      ],
      "metadata": {
        "id": "lPXtviU794Oy"
      },
      "execution_count": null,
      "outputs": []
    },
    {
      "cell_type": "code",
      "source": [
        "print(df.isnull().sum())\n",
        "print((df.isnull().sum() / len(df)) * 100)"
      ],
      "metadata": {
        "id": "y_OCVPx8_GUb"
      },
      "execution_count": null,
      "outputs": []
    },
    {
      "cell_type": "markdown",
      "source": [
        "exist 24 missing values in column (Income) we will removing it or fill values later according analysis\n"
      ],
      "metadata": {
        "id": "Fn3z6Ef9Y7G7"
      }
    },
    {
      "cell_type": "code",
      "source": [
        "df['Age'] = 2025 - df['Year_Birth']\n"
      ],
      "metadata": {
        "id": "FmYk1vg5Z8gP"
      },
      "execution_count": null,
      "outputs": []
    },
    {
      "cell_type": "code",
      "source": [
        "cat_cols = df.select_dtypes(include='object').columns\n",
        "for col in cat_cols:\n",
        "    print(f\"{col}:\", df[col].nunique())\n",
        "    print(df[col].value_counts())\n",
        "    print(\"------\")\n"
      ],
      "metadata": {
        "id": "5P07gcVE4Pkg"
      },
      "execution_count": null,
      "outputs": []
    },
    {
      "cell_type": "code",
      "source": [
        "import seaborn as sns\n",
        "import matplotlib.pyplot as plt\n",
        "\n",
        "corr = df.corr(numeric_only=True)\n",
        "plt.figure(figsize=(18, 14))\n",
        "sns.heatmap(corr, annot=True, cmap='coolwarm')\n",
        "plt.title(\"Correlation Heatmap\")\n",
        "plt.show()\n"
      ],
      "metadata": {
        "id": "5ZAaxvT3D7P1"
      },
      "execution_count": null,
      "outputs": []
    },
    {
      "cell_type": "code",
      "source": [
        "sns.histplot(df['Age' ], kde=True)\n",
        "plt.title(\"Age Distribution\")\n",
        "plt.show()\n",
        "\n",
        "sns.histplot(x=df['Income'])\n",
        "plt.title(\"Income Distribution\")\n",
        "plt.show()\n",
        "\n",
        "sns.countplot(x=df['Education'])\n",
        "plt.title(\"Education Distribution\")\n",
        "plt.show()"
      ],
      "metadata": {
        "id": "6hAI3OlvIsNW"
      },
      "execution_count": null,
      "outputs": []
    },
    {
      "cell_type": "markdown",
      "source": [
        "\n",
        "- The majority of customers are aged between 30–60.\n",
        "- High-income customers tend to spend more on products.\n",
        "- Missing income data should be handled before model training.\n",
        "\n",
        "These insights can help the marketing team focus on specific segments.\n"
      ],
      "metadata": {
        "id": "XrgCFrFEa3kR"
      }
    }
  ]
}